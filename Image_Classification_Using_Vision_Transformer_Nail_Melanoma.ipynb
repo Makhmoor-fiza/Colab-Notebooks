{
  "nbformat": 4,
  "nbformat_minor": 0,
  "metadata": {
    "colab": {
      "provenance": [],
      "authorship_tag": "ABX9TyNOeH8xQEzoQk0y8H/a7LeM",
      "include_colab_link": true
    },
    "kernelspec": {
      "name": "python3",
      "display_name": "Python 3"
    },
    "language_info": {
      "name": "python"
    }
  },
  "cells": [
    {
      "cell_type": "markdown",
      "metadata": {
        "id": "view-in-github",
        "colab_type": "text"
      },
      "source": [
        "<a href=\"https://colab.research.google.com/github/Makhmoor-fiza/Colab-Notebooks/blob/main/Image_Classification_Using_Vision_Transformer_Nail_Melanoma.ipynb\" target=\"_parent\"><img src=\"https://colab.research.google.com/assets/colab-badge.svg\" alt=\"Open In Colab\"/></a>"
      ]
    },
    {
      "cell_type": "markdown",
      "source": [
        "Set Up"
      ],
      "metadata": {
        "id": "jTWXHTpnHqfQ"
      }
    },
    {
      "cell_type": "code",
      "execution_count": 1,
      "metadata": {
        "colab": {
          "base_uri": "https://localhost:8080/"
        },
        "id": "7eHW7jyC0mXv",
        "outputId": "ffa4efbb-685f-4c58-e9be-e0adde670369"
      },
      "outputs": [
        {
          "output_type": "stream",
          "name": "stdout",
          "text": [
            "Collecting torchinfo\n",
            "  Downloading torchinfo-1.8.0-py3-none-any.whl.metadata (21 kB)\n",
            "Downloading torchinfo-1.8.0-py3-none-any.whl (23 kB)\n",
            "Installing collected packages: torchinfo\n",
            "Successfully installed torchinfo-1.8.0\n"
          ]
        }
      ],
      "source": [
        "# Install torchinfo\n",
        "!pip install torchinfo\n"
      ]
    },
    {
      "cell_type": "markdown",
      "source": [
        "Mount Drive , if the data is placed on drive"
      ],
      "metadata": {
        "id": "eMb8RBfkH6UV"
      }
    },
    {
      "cell_type": "code",
      "source": [
        "from google.colab import drive\n",
        "drive.mount('/content/drive')\n"
      ],
      "metadata": {
        "colab": {
          "base_uri": "https://localhost:8080/"
        },
        "id": "rNo_9oCD0txp",
        "outputId": "1a3ff56f-cd12-41c3-883b-3d40d014e7ca"
      },
      "execution_count": 2,
      "outputs": [
        {
          "output_type": "stream",
          "name": "stdout",
          "text": [
            "Mounted at /content/drive\n"
          ]
        }
      ]
    },
    {
      "cell_type": "markdown",
      "source": [
        "set up the path for data and ensure unzipping\n"
      ],
      "metadata": {
        "id": "Sf3aYrp9H_NW"
      }
    },
    {
      "cell_type": "code",
      "source": [
        "import os\n",
        "\n",
        "# Define the dataset directory\n",
        "dataset_dir = '/content/Datasets'\n",
        "\n",
        "# Unzip the dataset only if it hasn't been unzipped yet\n",
        "if not os.path.exists(dataset_dir):\n",
        "    !unzip -o -q /content/drive/MyDrive/Datasets.zip -d /content/Datasets\n",
        "    print(\"Dataset unzipped successfully.\")\n",
        "else:\n",
        "    print(\"Dataset directory already exists. Skipping unzip.\")\n"
      ],
      "metadata": {
        "colab": {
          "base_uri": "https://localhost:8080/"
        },
        "id": "Oqd434zd0zxA",
        "outputId": "8b042eb7-d4e9-4491-e9f1-0c7ea42dafbf"
      },
      "execution_count": 3,
      "outputs": [
        {
          "output_type": "stream",
          "name": "stdout",
          "text": [
            "Dataset unzipped successfully.\n"
          ]
        }
      ]
    },
    {
      "cell_type": "markdown",
      "source": [
        "Install necessary libraries"
      ],
      "metadata": {
        "id": "nJ_5v60iH4iv"
      }
    },
    {
      "cell_type": "code",
      "source": [
        "import random\n",
        "import numpy as np\n",
        "import matplotlib.pyplot as plt\n",
        "from PIL import Image\n",
        "\n",
        "import torch\n",
        "import torch.nn as nn\n",
        "import torch.optim as optim\n",
        "from torch.utils.data import DataLoader\n",
        "from torchvision import datasets, transforms, models\n",
        "\n",
        "from torchinfo import summary\n"
      ],
      "metadata": {
        "id": "CSc_C7ud02YQ"
      },
      "execution_count": 4,
      "outputs": []
    },
    {
      "cell_type": "markdown",
      "source": [
        "Set Seed for Reproducibility"
      ],
      "metadata": {
        "id": "NsO5u0iBIFn-"
      }
    },
    {
      "cell_type": "code",
      "source": [
        "def set_seeds(seed=42):\n",
        "    random.seed(seed)\n",
        "    np.random.seed(seed)\n",
        "    torch.manual_seed(seed)\n",
        "    if torch.cuda.is_available():\n",
        "        torch.cuda.manual_seed_all(seed)\n",
        "\n",
        "set_seeds()\n"
      ],
      "metadata": {
        "id": "i7WBes5-07lw"
      },
      "execution_count": 5,
      "outputs": []
    },
    {
      "cell_type": "markdown",
      "source": [
        "Define Helper Functions"
      ],
      "metadata": {
        "id": "TUf4EQ0gITfP"
      }
    },
    {
      "cell_type": "code",
      "source": [
        "def plot_loss_curves(results):\n",
        "    epochs = range(1, len(results['train_loss']) + 1)\n",
        "    plt.figure(figsize=(12,5))\n",
        "\n",
        "    # Plot Loss\n",
        "    plt.subplot(1,2,1)\n",
        "    plt.plot(epochs, results['train_loss'], label='Train Loss')\n",
        "    plt.plot(epochs, results['test_loss'], label='Test Loss')\n",
        "    plt.xlabel('Epochs')\n",
        "    plt.ylabel('Loss')\n",
        "    plt.title('Loss Curves')\n",
        "    plt.legend()\n",
        "\n",
        "    # Plot Accuracy\n",
        "    plt.subplot(1,2,2)\n",
        "    plt.plot(epochs, results['train_acc'], label='Train Accuracy')\n",
        "    plt.plot(epochs, results['test_acc'], label='Test Accuracy')\n",
        "    plt.xlabel('Epochs')\n",
        "    plt.ylabel('Accuracy')\n",
        "    plt.title('Accuracy Curves')\n",
        "    plt.legend()\n",
        "\n",
        "    plt.show()\n",
        "\n",
        "def train(model, train_loader, test_loader, optimizer, loss_fn, epochs, device):\n",
        "    results = {\n",
        "        'train_loss': [],\n",
        "        'test_loss': [],\n",
        "        'train_acc': [],\n",
        "        'test_acc': []\n",
        "    }\n",
        "\n",
        "    for epoch in range(1, epochs + 1):\n",
        "        model.train()\n",
        "        running_loss = 0.0\n",
        "        running_corrects = 0\n",
        "        total = 0\n",
        "\n",
        "        for inputs, labels in train_loader:\n",
        "            inputs = inputs.to(device)\n",
        "            labels = labels.to(device)\n",
        "\n",
        "            optimizer.zero_grad()\n",
        "\n",
        "            outputs = model(inputs)\n",
        "            loss = loss_fn(outputs, labels)\n",
        "            loss.backward()\n",
        "            optimizer.step()\n",
        "\n",
        "            _, preds = torch.max(outputs, 1)\n",
        "            running_loss += loss.item() * inputs.size(0)\n",
        "            running_corrects += torch.sum(preds == labels.data)\n",
        "            total += labels.size(0)\n",
        "\n",
        "        epoch_loss = running_loss / total\n",
        "        epoch_acc = running_corrects.double() / total\n",
        "        results['train_loss'].append(epoch_loss)\n",
        "        results['train_acc'].append(epoch_acc.item())\n",
        "\n",
        "        # Evaluation phase\n",
        "        model.eval()\n",
        "        test_running_loss = 0.0\n",
        "        test_running_corrects = 0\n",
        "        test_total = 0\n",
        "\n",
        "        with torch.no_grad():\n",
        "            for inputs, labels in test_loader:\n",
        "                inputs = inputs.to(device)\n",
        "                labels = labels.to(device)\n",
        "\n",
        "                outputs = model(inputs)\n",
        "                loss = loss_fn(outputs, labels)\n",
        "\n",
        "                _, preds = torch.max(outputs, 1)\n",
        "                test_running_loss += loss.item() * inputs.size(0)\n",
        "                test_running_corrects += torch.sum(preds == labels.data)\n",
        "                test_total += labels.size(0)\n",
        "\n",
        "        test_epoch_loss = test_running_loss / test_total\n",
        "        test_epoch_acc = test_running_corrects.double() / test_total\n",
        "        results['test_loss'].append(test_epoch_loss)\n",
        "        results['test_acc'].append(test_epoch_acc.item())\n",
        "\n",
        "        print(f\"Epoch: {epoch} | \"\n",
        "              f\"Train Loss: {epoch_loss:.4f} | Train Acc: {epoch_acc:.4f} | \"\n",
        "              f\"Test Loss: {test_epoch_loss:.4f} | Test Acc: {test_epoch_acc:.4f}\")\n",
        "\n",
        "    return results\n",
        "\n",
        "def pred_and_plot_image(model, image_path, class_names, transform, device):\n",
        "    model.eval()\n",
        "    image = Image.open(image_path).convert('RGB')\n",
        "    img = transform(image).unsqueeze(0).to(device)\n",
        "\n",
        "    with torch.no_grad():\n",
        "        outputs = model(img)\n",
        "        _, preds = torch.max(outputs, 1)\n",
        "        pred_class = class_names[preds.item()]\n",
        "\n",
        "    plt.imshow(image)\n",
        "    plt.title(f\"Predicted: {pred_class}\")\n",
        "    plt.axis('off')\n",
        "    plt.show()\n"
      ],
      "metadata": {
        "id": "eS0vWeI7095n"
      },
      "execution_count": 6,
      "outputs": []
    },
    {
      "cell_type": "code",
      "source": [
        "!ls /content/Datasets/\n"
      ],
      "metadata": {
        "colab": {
          "base_uri": "https://localhost:8080/"
        },
        "id": "dIoNPGFp1nlV",
        "outputId": "b618d826-3d15-493f-fc7d-df5914d1e434"
      },
      "execution_count": 9,
      "outputs": [
        {
          "output_type": "stream",
          "name": "stdout",
          "text": [
            "dataset\n"
          ]
        }
      ]
    },
    {
      "cell_type": "code",
      "source": [
        "!ls /content/Datasets/dataset/\n"
      ],
      "metadata": {
        "colab": {
          "base_uri": "https://localhost:8080/"
        },
        "id": "S1fnkF8P1r2w",
        "outputId": "efba169c-7f35-4c92-b261-06ab6508de99"
      },
      "execution_count": 10,
      "outputs": [
        {
          "output_type": "stream",
          "name": "stdout",
          "text": [
            "test  train\n"
          ]
        }
      ]
    },
    {
      "cell_type": "code",
      "source": [
        "!ls /content/Datasets/dataset/train/\n"
      ],
      "metadata": {
        "colab": {
          "base_uri": "https://localhost:8080/"
        },
        "id": "EnFUFSPS1tim",
        "outputId": "1493dddc-18bf-43e6-b016-a792400defb8"
      },
      "execution_count": 11,
      "outputs": [
        {
          "output_type": "stream",
          "name": "stdout",
          "text": [
            "melanoma  normal\n"
          ]
        }
      ]
    },
    {
      "cell_type": "code",
      "source": [
        "# Define paths with the correct directory structure\n",
        "train_dir = '/content/Datasets/dataset/train'\n",
        "test_dir = '/content/Datasets/dataset/test'\n"
      ],
      "metadata": {
        "id": "ByrjFscr2PNE"
      },
      "execution_count": 12,
      "outputs": []
    },
    {
      "cell_type": "markdown",
      "source": [
        "Prepare Data Loaders"
      ],
      "metadata": {
        "id": "MGEofmhBIat0"
      }
    },
    {
      "cell_type": "code",
      "source": [
        "# 6. Prepare Data Loaders\n",
        "\n",
        "# Define paths\n",
        "train_dir = '/content/Datasets/dataset/train'\n",
        "test_dir = '/content/Datasets/dataset/test'\n",
        "\n",
        "# Check if CUDA is available\n",
        "device = \"cuda\" if torch.cuda.is_available() else \"cpu\"\n",
        "print(f\"Using device: {device}\")\n",
        "\n",
        "# Get pretrained ViT transforms\n",
        "pretrained_vit_weights = models.ViT_B_16_Weights.DEFAULT\n",
        "pretrained_vit_transforms = pretrained_vit_weights.transforms()\n",
        "\n",
        "# Create DataLoaders\n",
        "def create_dataloaders(train_dir, test_dir, transform, batch_size=32, num_workers=2):\n",
        "    train_data = datasets.ImageFolder(train_dir, transform=transform)\n",
        "    test_data = datasets.ImageFolder(test_dir, transform=transform)\n",
        "    class_names = train_data.classes\n",
        "\n",
        "    train_loader = DataLoader(train_data, batch_size=batch_size, shuffle=True, num_workers=num_workers, pin_memory=True)\n",
        "    test_loader = DataLoader(test_data, batch_size=batch_size, shuffle=False, num_workers=num_workers, pin_memory=True)\n",
        "\n",
        "    return train_loader, test_loader, class_names\n",
        "\n",
        "train_loader, test_loader, class_names = create_dataloaders(\n",
        "    train_dir=train_dir,\n",
        "    test_dir=test_dir,\n",
        "    transform=pretrained_vit_transforms,\n",
        "    batch_size=32,\n",
        "    num_workers=2\n",
        ")\n",
        "\n",
        "print(f\"Classes: {class_names}\")\n"
      ],
      "metadata": {
        "colab": {
          "base_uri": "https://localhost:8080/"
        },
        "id": "oiPOKoD12WWi",
        "outputId": "203d0acd-103e-48ed-9078-13114bac36cb"
      },
      "execution_count": 13,
      "outputs": [
        {
          "output_type": "stream",
          "name": "stdout",
          "text": [
            "Using device: cpu\n",
            "Classes: ['melanoma', 'normal']\n"
          ]
        }
      ]
    },
    {
      "cell_type": "markdown",
      "source": [
        "Load and Modify the Pretrained ViT Model"
      ],
      "metadata": {
        "id": "0NtIAgT1Ib7_"
      }
    },
    {
      "cell_type": "code",
      "source": [
        "# Load pretrained ViT model\n",
        "pretrained_vit = models.vit_b_16(weights=pretrained_vit_weights).to(device)\n",
        "\n",
        "# Freeze all parameters\n",
        "for param in pretrained_vit.parameters():\n",
        "    param.requires_grad = False\n",
        "\n",
        "# Replace the classifier head\n",
        "num_features = pretrained_vit.heads.head.in_features\n",
        "pretrained_vit.heads.head = nn.Linear(num_features, len(class_names)).to(device)\n",
        "\n",
        "# Print model summary\n",
        "summary(pretrained_vit, input_size=(32, 3, 224, 224),\n",
        "        col_names=[\"input_size\", \"output_size\", \"num_params\", \"trainable\"],\n",
        "        col_width=20, row_settings=[\"var_names\"])\n"
      ],
      "metadata": {
        "colab": {
          "base_uri": "https://localhost:8080/"
        },
        "id": "KVJdqcyZ2iIU",
        "outputId": "f73c9f1e-eab0-4d7a-cde5-c64c55d8daba"
      },
      "execution_count": 14,
      "outputs": [
        {
          "output_type": "stream",
          "name": "stderr",
          "text": [
            "Downloading: \"https://download.pytorch.org/models/vit_b_16-c867db91.pth\" to /root/.cache/torch/hub/checkpoints/vit_b_16-c867db91.pth\n",
            "100%|██████████| 330M/330M [00:02<00:00, 138MB/s]\n"
          ]
        },
        {
          "output_type": "execute_result",
          "data": {
            "text/plain": [
              "============================================================================================================================================\n",
              "Layer (type (var_name))                                      Input Shape          Output Shape         Param #              Trainable\n",
              "============================================================================================================================================\n",
              "VisionTransformer (VisionTransformer)                        [32, 3, 224, 224]    [32, 2]              768                  Partial\n",
              "├─Conv2d (conv_proj)                                         [32, 3, 224, 224]    [32, 768, 14, 14]    (590,592)            False\n",
              "├─Encoder (encoder)                                          [32, 197, 768]       [32, 197, 768]       151,296              False\n",
              "│    └─Dropout (dropout)                                     [32, 197, 768]       [32, 197, 768]       --                   --\n",
              "│    └─Sequential (layers)                                   [32, 197, 768]       [32, 197, 768]       --                   False\n",
              "│    │    └─EncoderBlock (encoder_layer_0)                   [32, 197, 768]       [32, 197, 768]       (7,087,872)          False\n",
              "│    │    └─EncoderBlock (encoder_layer_1)                   [32, 197, 768]       [32, 197, 768]       (7,087,872)          False\n",
              "│    │    └─EncoderBlock (encoder_layer_2)                   [32, 197, 768]       [32, 197, 768]       (7,087,872)          False\n",
              "│    │    └─EncoderBlock (encoder_layer_3)                   [32, 197, 768]       [32, 197, 768]       (7,087,872)          False\n",
              "│    │    └─EncoderBlock (encoder_layer_4)                   [32, 197, 768]       [32, 197, 768]       (7,087,872)          False\n",
              "│    │    └─EncoderBlock (encoder_layer_5)                   [32, 197, 768]       [32, 197, 768]       (7,087,872)          False\n",
              "│    │    └─EncoderBlock (encoder_layer_6)                   [32, 197, 768]       [32, 197, 768]       (7,087,872)          False\n",
              "│    │    └─EncoderBlock (encoder_layer_7)                   [32, 197, 768]       [32, 197, 768]       (7,087,872)          False\n",
              "│    │    └─EncoderBlock (encoder_layer_8)                   [32, 197, 768]       [32, 197, 768]       (7,087,872)          False\n",
              "│    │    └─EncoderBlock (encoder_layer_9)                   [32, 197, 768]       [32, 197, 768]       (7,087,872)          False\n",
              "│    │    └─EncoderBlock (encoder_layer_10)                  [32, 197, 768]       [32, 197, 768]       (7,087,872)          False\n",
              "│    │    └─EncoderBlock (encoder_layer_11)                  [32, 197, 768]       [32, 197, 768]       (7,087,872)          False\n",
              "│    └─LayerNorm (ln)                                        [32, 197, 768]       [32, 197, 768]       (1,536)              False\n",
              "├─Sequential (heads)                                         [32, 768]            [32, 2]              --                   True\n",
              "│    └─Linear (head)                                         [32, 768]            [32, 2]              1,538                True\n",
              "============================================================================================================================================\n",
              "Total params: 85,800,194\n",
              "Trainable params: 1,538\n",
              "Non-trainable params: 85,798,656\n",
              "Total mult-adds (G): 5.52\n",
              "============================================================================================================================================\n",
              "Input size (MB): 19.27\n",
              "Forward/backward pass size (MB): 3330.74\n",
              "Params size (MB): 229.20\n",
              "Estimated Total Size (MB): 3579.20\n",
              "============================================================================================================================================"
            ]
          },
          "metadata": {},
          "execution_count": 14
        }
      ]
    },
    {
      "cell_type": "markdown",
      "source": [
        "Train the Model"
      ],
      "metadata": {
        "id": "RWUpg3vqIfAO"
      }
    },
    {
      "cell_type": "code",
      "source": [
        "# Define optimizer and loss function\n",
        "optimizer = optim.Adam(pretrained_vit.heads.parameters(), lr=1e-3)\n",
        "loss_fn = nn.CrossEntropyLoss()\n",
        "\n",
        "# Train the model\n",
        "epochs = 10\n",
        "results = train(\n",
        "    model=pretrained_vit,\n",
        "    train_loader=train_loader,\n",
        "    test_loader=test_loader,\n",
        "    optimizer=optimizer,\n",
        "    loss_fn=loss_fn,\n",
        "    epochs=epochs,\n",
        "    device=device\n",
        ")\n"
      ],
      "metadata": {
        "colab": {
          "base_uri": "https://localhost:8080/"
        },
        "id": "7gatwSln2nx4",
        "outputId": "d8456ca8-579c-4d02-c54b-9133d7069bc0"
      },
      "execution_count": 15,
      "outputs": [
        {
          "output_type": "stream",
          "name": "stdout",
          "text": [
            "Epoch: 1 | Train Loss: 0.7031 | Train Acc: 0.5878 | Test Loss: 0.5143 | Test Acc: 0.7241\n",
            "Epoch: 2 | Train Loss: 0.4138 | Train Acc: 0.8473 | Test Loss: 0.3993 | Test Acc: 0.8621\n",
            "Epoch: 3 | Train Loss: 0.2672 | Train Acc: 0.9771 | Test Loss: 0.3498 | Test Acc: 0.8621\n",
            "Epoch: 4 | Train Loss: 0.1874 | Train Acc: 0.9847 | Test Loss: 0.3108 | Test Acc: 0.8621\n",
            "Epoch: 5 | Train Loss: 0.1415 | Train Acc: 0.9847 | Test Loss: 0.2891 | Test Acc: 0.8621\n",
            "Epoch: 6 | Train Loss: 0.1107 | Train Acc: 0.9847 | Test Loss: 0.2701 | Test Acc: 0.8621\n",
            "Epoch: 7 | Train Loss: 0.0922 | Train Acc: 0.9924 | Test Loss: 0.2538 | Test Acc: 0.9138\n",
            "Epoch: 8 | Train Loss: 0.0789 | Train Acc: 0.9924 | Test Loss: 0.2445 | Test Acc: 0.9138\n",
            "Epoch: 9 | Train Loss: 0.0695 | Train Acc: 0.9924 | Test Loss: 0.2374 | Test Acc: 0.9138\n",
            "Epoch: 10 | Train Loss: 0.0630 | Train Acc: 0.9924 | Test Loss: 0.2312 | Test Acc: 0.9138\n"
          ]
        }
      ]
    },
    {
      "cell_type": "markdown",
      "source": [
        "Plot Loss Curves"
      ],
      "metadata": {
        "id": "ISAc19qAIwKp"
      }
    },
    {
      "cell_type": "code",
      "source": [
        "plot_loss_curves(results)\n"
      ],
      "metadata": {
        "colab": {
          "base_uri": "https://localhost:8080/",
          "height": 487
        },
        "id": "rrL_El2w2z0N",
        "outputId": "61a32e8f-eefc-4f50-901e-445a5e92fb2a"
      },
      "execution_count": 16,
      "outputs": [
        {
          "output_type": "display_data",
          "data": {
            "text/plain": [
              "<Figure size 1200x500 with 2 Axes>"
            ],
            "image/png": "[encoded data removed]"
          },
          "metadata": {}
        }
      ]
    },
    {
      "cell_type": "markdown",
      "source": [
        "Make a prediction with custom Image"
      ],
      "metadata": {
        "id": "heoiR7zu8g93"
      }
    },
    {
      "cell_type": "code",
      "source": [
        "import torch\n",
        "from torchvision import transforms\n",
        "from PIL import Image\n",
        "from google.colab import files\n",
        "\n",
        "# Assuming you've already defined and loaded your model\n",
        "pretrained_vit.eval()  # Set model to evaluation mode\n",
        "\n",
        "# Define image transformations\n",
        "pretrained_vit_transforms = transforms.Compose([\n",
        "    transforms.Resize((256, 256)),  # Resize to 256x256\n",
        "    transforms.CenterCrop(224),      # Crop to 224x224\n",
        "    transforms.ToTensor(),            # Convert to tensor\n",
        "    transforms.Normalize(mean=[0.485, 0.456, 0.406], std=[0.229, 0.224, 0.225])  # Normalize\n",
        "])\n",
        "\n",
        "# Upload images\n",
        "uploaded = files.upload()\n",
        "\n",
        "# Print the uploaded filenames\n",
        "print(\"Uploaded files:\")\n",
        "for filename in uploaded.keys():\n",
        "    print(filename)\n",
        "\n",
        "# Use the uploaded file(s) for prediction\n",
        "for image_path in uploaded.keys():\n",
        "    print(f\"Processing {image_path}...\")\n",
        "    image = Image.open(image_path).convert(\"RGB\")  # Open image and convert to RGB\n",
        "    image = pretrained_vit_transforms(image).unsqueeze(0)  # Add batch dimension\n",
        "\n",
        "    # Make prediction\n",
        "    with torch.no_grad():\n",
        "        outputs = pretrained_vit(image)  # Get model outputs\n",
        "        _, predicted = torch.max(outputs, 1)  # Get predicted class\n",
        "\n",
        "    # Print the prediction\n",
        "    print(f\"Predicted class for {image_path}: {class_names[predicted.item()]}\")\n"
      ],
      "metadata": {
        "colab": {
          "base_uri": "https://localhost:8080/",
          "height": 146
        },
        "id": "RFA80FIWEG_x",
        "outputId": "77bb27f5-4b8d-4b5d-b7fb-94437e9a8611"
      },
      "execution_count": 31,
      "outputs": [
        {
          "output_type": "display_data",
          "data": {
            "text/plain": [
              "<IPython.core.display.HTML object>"
            ],
            "text/html": [
              "\n",
              "     <input type=\"file\" id=\"files-b9ca8a8d-ba7d-465c-852b-c472ff2103ce\" name=\"files[]\" multiple disabled\n",
              "        style=\"border:none\" />\n",
              "     <output id=\"result-b9ca8a8d-ba7d-465c-852b-c472ff2103ce\">\n",
              "      Upload widget is only available when the cell has been executed in the\n",
              "      current browser session. Please rerun this cell to enable.\n",
              "      </output>\n",
              "      <script>// Copyright 2017 Google LLC\n",
              "//\n",
              "// Licensed under the Apache License, Version 2.0 (the \"License\");\n",
              "// you may not use this file except in compliance with the License.\n",
              "// You may obtain a copy of the License at\n",
              "//\n",
              "//      http://www.apache.org/licenses/LICENSE-2.0\n",
              "//\n",
              "// Unless required by applicable law or agreed to in writing, software\n",
              "// distributed under the License is distributed on an \"AS IS\" BASIS,\n",
              "// WITHOUT WARRANTIES OR CONDITIONS OF ANY KIND, either express or implied.\n",
              "// See the License for the specific language governing permissions and\n",
              "// limitations under the License.\n",
              "\n",
              "/**\n",
              " * @fileoverview Helpers for google.colab Python module.\n",
              " */\n",
              "(function(scope) {\n",
              "function span(text, styleAttributes = {}) {\n",
              "  const element = document.createElement('span');\n",
              "  element.textContent = text;\n",
              "  for (const key of Object.keys(styleAttributes)) {\n",
              "    element.style[key] = styleAttributes[key];\n",
              "  }\n",
              "  return element;\n",
              "}\n",
              "\n",
              "// Max number of bytes which will be uploaded at a time.\n",
              "const MAX_PAYLOAD_SIZE = 100 * 1024;\n",
              "\n",
              "function _uploadFiles(inputId, outputId) {\n",
              "  const steps = uploadFilesStep(inputId, outputId);\n",
              "  const outputElement = document.getElementById(outputId);\n",
              "  // Cache steps on the outputElement to make it available for the next call\n",
              "  // to uploadFilesContinue from Python.\n",
              "  outputElement.steps = steps;\n",
              "\n",
              "  return _uploadFilesContinue(outputId);\n",
              "}\n",
              "\n",
              "// This is roughly an async generator (not supported in the browser yet),\n",
              "// where there are multiple asynchronous steps and the Python side is going\n",
              "// to poll for completion of each step.\n",
              "// This uses a Promise to block the python side on completion of each step,\n",
              "// then passes the result of the previous step as the input to the next step.\n",
              "function _uploadFilesContinue(outputId) {\n",
              "  const outputElement = document.getElementById(outputId);\n",
              "  const steps = outputElement.steps;\n",
              "\n",
              "  const next = steps.next(outputElement.lastPromiseValue);\n",
              "  return Promise.resolve(next.value.promise).then((value) => {\n",
              "    // Cache the last promise value to make it available to the next\n",
              "    // step of the generator.\n",
              "    outputElement.lastPromiseValue = value;\n",
              "    return next.value.response;\n",
              "  });\n",
              "}\n",
              "\n",
              "/**\n",
              " * Generator function which is called between each async step of the upload\n",
              " * process.\n",
              " * @param {string} inputId Element ID of the input file picker element.\n",
              " * @param {string} outputId Element ID of the output display.\n",
              " * @return {!Iterable<!Object>} Iterable of next steps.\n",
              " */\n",
              "function* uploadFilesStep(inputId, outputId) {\n",
              "  const inputElement = document.getElementById(inputId);\n",
              "  inputElement.disabled = false;\n",
              "\n",
              "  const outputElement = document.getElementById(outputId);\n",
              "  outputElement.innerHTML = '';\n",
              "\n",
              "  const pickedPromise = new Promise((resolve) => {\n",
              "    inputElement.addEventListener('change', (e) => {\n",
              "      resolve(e.target.files);\n",
              "    });\n",
              "  });\n",
              "\n",
              "  const cancel = document.createElement('button');\n",
              "  inputElement.parentElement.appendChild(cancel);\n",
              "  cancel.textContent = 'Cancel upload';\n",
              "  const cancelPromise = new Promise((resolve) => {\n",
              "    cancel.onclick = () => {\n",
              "      resolve(null);\n",
              "    };\n",
              "  });\n",
              "\n",
              "  // Wait for the user to pick the files.\n",
              "  const files = yield {\n",
              "    promise: Promise.race([pickedPromise, cancelPromise]),\n",
              "    response: {\n",
              "      action: 'starting',\n",
              "    }\n",
              "  };\n",
              "\n",
              "  cancel.remove();\n",
              "\n",
              "  // Disable the input element since further picks are not allowed.\n",
              "  inputElement.disabled = true;\n",
              "\n",
              "  if (!files) {\n",
              "    return {\n",
              "      response: {\n",
              "        action: 'complete',\n",
              "      }\n",
              "    };\n",
              "  }\n",
              "\n",
              "  for (const file of files) {\n",
              "    const li = document.createElement('li');\n",
              "    li.append(span(file.name, {fontWeight: 'bold'}));\n",
              "    li.append(span(\n",
              "        `(${file.type || 'n/a'}) - ${file.size} bytes, ` +\n",
              "        `last modified: ${\n",
              "            file.lastModifiedDate ? file.lastModifiedDate.toLocaleDateString() :\n",
              "                                    'n/a'} - `));\n",
              "    const percent = span('0% done');\n",
              "    li.appendChild(percent);\n",
              "\n",
              "    outputElement.appendChild(li);\n",
              "\n",
              "    const fileDataPromise = new Promise((resolve) => {\n",
              "      const reader = new FileReader();\n",
              "      reader.onload = (e) => {\n",
              "        resolve(e.target.result);\n",
              "      };\n",
              "      reader.readAsArrayBuffer(file);\n",
              "    });\n",
              "    // Wait for the data to be ready.\n",
              "    let fileData = yield {\n",
              "      promise: fileDataPromise,\n",
              "      response: {\n",
              "        action: 'continue',\n",
              "      }\n",
              "    };\n",
              "\n",
              "    // Use a chunked sending to avoid message size limits. See b/62115660.\n",
              "    let position = 0;\n",
              "    do {\n",
              "      const length = Math.min(fileData.byteLength - position, MAX_PAYLOAD_SIZE);\n",
              "      const chunk = new Uint8Array(fileData, position, length);\n",
              "      position += length;\n",
              "\n",
              "      const base64 = btoa(String.fromCharCode.apply(null, chunk));\n",
              "      yield {\n",
              "        response: {\n",
              "          action: 'append',\n",
              "          file: file.name,\n",
              "          data: base64,\n",
              "        },\n",
              "      };\n",
              "\n",
              "      let percentDone = fileData.byteLength === 0 ?\n",
              "          100 :\n",
              "          Math.round((position / fileData.byteLength) * 100);\n",
              "      percent.textContent = `${percentDone}% done`;\n",
              "\n",
              "    } while (position < fileData.byteLength);\n",
              "  }\n",
              "\n",
              "  // All done.\n",
              "  yield {\n",
              "    response: {\n",
              "      action: 'complete',\n",
              "    }\n",
              "  };\n",
              "}\n",
              "\n",
              "scope.google = scope.google || {};\n",
              "scope.google.colab = scope.google.colab || {};\n",
              "scope.google.colab._files = {\n",
              "  _uploadFiles,\n",
              "  _uploadFilesContinue,\n",
              "};\n",
              "})(self);\n",
              "</script> "
            ]
          },
          "metadata": {}
        },
        {
          "output_type": "stream",
          "name": "stdout",
          "text": [
            "Saving test_image2.jpg to test_image2.jpg\n",
            "Uploaded files:\n",
            "test_image2.jpg\n",
            "Processing test_image2.jpg...\n",
            "Predicted class for test_image2.jpg: melanoma\n"
          ]
        }
      ]
    },
    {
      "cell_type": "markdown",
      "source": [
        "Save the model"
      ],
      "metadata": {
        "id": "e361HKfxI1eM"
      }
    },
    {
      "cell_type": "code",
      "source": [
        "# Save the entire model\n",
        "torch.save(pretrained_vit.state_dict(), 'pretrained_vit_model.pth')\n"
      ],
      "metadata": {
        "id": "I0fTxTXq9SWh"
      },
      "execution_count": 18,
      "outputs": []
    },
    {
      "cell_type": "markdown",
      "source": [
        "Collecting the traininig results, insure it will run the code again. # Not Working, Needs troubleshooting"
      ],
      "metadata": {
        "id": "Qt6dpi-qEthK"
      }
    },
    {
      "cell_type": "code",
      "source": [
        "import pandas as pd\n",
        "import torch\n",
        "import torch.optim as optim\n",
        "import torch.nn as nn\n",
        "\n",
        "# Assuming `pretrained_vit` is your model and `train_loader`, `test_loader` are your data loaders\n",
        "\n",
        "# Define optimizer and loss function\n",
        "optimizer = optim.Adam(pretrained_vit.heads.parameters(), lr=1e-3)\n",
        "loss_fn = nn.CrossEntropyLoss()\n",
        "\n",
        "# Define the number of epochs for training\n",
        "num_epochs = 10\n",
        "\n",
        "# Initialize a dictionary to store training results\n",
        "pretrained_vit_results = {\n",
        "    'epoch': [],\n",
        "    'train_loss': [],\n",
        "    'train_accuracy': [],\n",
        "    'val_loss': [],\n",
        "    'val_accuracy': []\n",
        "}\n",
        "\n",
        "# Training loop\n",
        "for epoch in range(num_epochs):\n",
        "    pretrained_vit.train()  # Set model to training mode\n",
        "    train_loss = 0.0\n",
        "    train_correct = 0\n",
        "    total_train = 0\n",
        "\n",
        "    # Training step\n",
        "    for images, labels in train_loader:\n",
        "        optimizer.zero_grad()  # Clear gradients\n",
        "        outputs = pretrained_vit(images)  # Forward pass\n",
        "        loss = loss_fn(outputs, labels)  # Compute loss\n",
        "        loss.backward()  # Backward pass\n",
        "        optimizer.step()  # Update parameters\n",
        "\n",
        "        train_loss += loss.item() * images.size(0)  # Accumulate loss\n",
        "        _, predicted = torch.max(outputs.data, 1)  # Get predicted classes\n",
        "        train_correct += (predicted == labels).sum().item()  # Count correct predictions\n",
        "        total_train += labels.size(0)  # Total examples\n",
        "\n",
        "    # Calculate training metrics\n",
        "    train_loss /= total_train\n",
        "    train_accuracy = train_correct / total_train\n",
        "\n",
        "    # Validation step\n",
        "    pretrained_vit.eval()  # Set model to evaluation mode\n",
        "    val_loss = 0.0\n",
        "    val_correct = 0\n",
        "    total_val = 0\n",
        "\n",
        "    with torch.no_grad():  # Disable gradient calculation\n",
        "        for images, labels in test_loader:\n",
        "            outputs = pretrained_vit(images)\n",
        "            loss = loss_fn(outputs, labels)\n",
        "\n",
        "            val_loss += loss.item() * images.size(0)\n",
        "            _, predicted = torch.max(outputs.data, 1)\n",
        "            val_correct += (predicted == labels).sum().item()\n",
        "            total_val += labels.size(0)\n",
        "\n",
        "    # Calculate validation metrics\n",
        "    val_loss /= total_val\n",
        "    val_accuracy = val_correct / total_val\n",
        "\n",
        "    # Save the results for this epoch\n",
        "    pretrained_vit_results['epoch'].append(epoch + 1)  # Store epoch number (1-indexed)\n",
        "    pretrained_vit_results['train_loss'].append(train_loss)\n",
        "    pretrained_vit_results['train_accuracy'].append(train_accuracy)\n",
        "    pretrained_vit_results['val_loss'].append(val_loss)\n",
        "    pretrained_vit_results['val_accuracy'].append(val_accuracy)\n",
        "\n",
        "    # Print results for the current epoch\n",
        "    print(f\"Epoch: {epoch + 1} | Train Loss: {train_loss:.4f} | Train Acc: {train_accuracy:.4f} | Test Loss: {val_loss:.4f} | Test Acc: {val_accuracy:.4f}\")\n",
        "\n",
        "# After training, convert to DataFrame and save\n",
        "results_df = pd.DataFrame(pretrained_vit_results)\n",
        "results_df.to_csv('training_results.csv', index=False)\n",
        "\n",
        "print(\"Training results saved to 'training_results.csv'.\")\n"
      ],
      "metadata": {
        "colab": {
          "base_uri": "https://localhost:8080/",
          "height": 347
        },
        "id": "osLx8j2zGGWo",
        "outputId": "9b34cbbd-8be8-4f2b-f456-dac36b9a06c0"
      },
      "execution_count": 37,
      "outputs": [
        {
          "output_type": "error",
          "ename": "AttributeError",
          "evalue": "'EfficientNet' object has no attribute 'heads'",
          "traceback": [
            "\u001b[0;31m---------------------------------------------------------------------------\u001b[0m",
            "\u001b[0;31mAttributeError\u001b[0m                            Traceback (most recent call last)",
            "\u001b[0;32m<ipython-input-37-838715fd160e>\u001b[0m in \u001b[0;36m<cell line: 9>\u001b[0;34m()\u001b[0m\n\u001b[1;32m      7\u001b[0m \u001b[0;34m\u001b[0m\u001b[0m\n\u001b[1;32m      8\u001b[0m \u001b[0;31m# Define optimizer and loss function\u001b[0m\u001b[0;34m\u001b[0m\u001b[0;34m\u001b[0m\u001b[0m\n\u001b[0;32m----> 9\u001b[0;31m \u001b[0moptimizer\u001b[0m \u001b[0;34m=\u001b[0m \u001b[0moptim\u001b[0m\u001b[0;34m.\u001b[0m\u001b[0mAdam\u001b[0m\u001b[0;34m(\u001b[0m\u001b[0mpretrained_vit\u001b[0m\u001b[0;34m.\u001b[0m\u001b[0mheads\u001b[0m\u001b[0;34m.\u001b[0m\u001b[0mparameters\u001b[0m\u001b[0;34m(\u001b[0m\u001b[0;34m)\u001b[0m\u001b[0;34m,\u001b[0m \u001b[0mlr\u001b[0m\u001b[0;34m=\u001b[0m\u001b[0;36m1e-3\u001b[0m\u001b[0;34m)\u001b[0m\u001b[0;34m\u001b[0m\u001b[0;34m\u001b[0m\u001b[0m\n\u001b[0m\u001b[1;32m     10\u001b[0m \u001b[0mloss_fn\u001b[0m \u001b[0;34m=\u001b[0m \u001b[0mnn\u001b[0m\u001b[0;34m.\u001b[0m\u001b[0mCrossEntropyLoss\u001b[0m\u001b[0;34m(\u001b[0m\u001b[0;34m)\u001b[0m\u001b[0;34m\u001b[0m\u001b[0;34m\u001b[0m\u001b[0m\n\u001b[1;32m     11\u001b[0m \u001b[0;34m\u001b[0m\u001b[0m\n",
            "\u001b[0;32m/usr/local/lib/python3.10/dist-packages/torch/nn/modules/module.py\u001b[0m in \u001b[0;36m__getattr__\u001b[0;34m(self, name)\u001b[0m\n\u001b[1;32m   1727\u001b[0m             \u001b[0;32mif\u001b[0m \u001b[0mname\u001b[0m \u001b[0;32min\u001b[0m \u001b[0mmodules\u001b[0m\u001b[0;34m:\u001b[0m\u001b[0;34m\u001b[0m\u001b[0;34m\u001b[0m\u001b[0m\n\u001b[1;32m   1728\u001b[0m                 \u001b[0;32mreturn\u001b[0m \u001b[0mmodules\u001b[0m\u001b[0;34m[\u001b[0m\u001b[0mname\u001b[0m\u001b[0;34m]\u001b[0m\u001b[0;34m\u001b[0m\u001b[0;34m\u001b[0m\u001b[0m\n\u001b[0;32m-> 1729\u001b[0;31m         \u001b[0;32mraise\u001b[0m \u001b[0mAttributeError\u001b[0m\u001b[0;34m(\u001b[0m\u001b[0;34mf\"'{type(self).__name__}' object has no attribute '{name}'\"\u001b[0m\u001b[0;34m)\u001b[0m\u001b[0;34m\u001b[0m\u001b[0;34m\u001b[0m\u001b[0m\n\u001b[0m\u001b[1;32m   1730\u001b[0m \u001b[0;34m\u001b[0m\u001b[0m\n\u001b[1;32m   1731\u001b[0m     \u001b[0;32mdef\u001b[0m \u001b[0m__setattr__\u001b[0m\u001b[0;34m(\u001b[0m\u001b[0mself\u001b[0m\u001b[0;34m,\u001b[0m \u001b[0mname\u001b[0m\u001b[0;34m:\u001b[0m \u001b[0mstr\u001b[0m\u001b[0;34m,\u001b[0m \u001b[0mvalue\u001b[0m\u001b[0;34m:\u001b[0m \u001b[0mUnion\u001b[0m\u001b[0;34m[\u001b[0m\u001b[0mTensor\u001b[0m\u001b[0;34m,\u001b[0m \u001b[0;34m'Module'\u001b[0m\u001b[0;34m]\u001b[0m\u001b[0;34m)\u001b[0m \u001b[0;34m->\u001b[0m \u001b[0;32mNone\u001b[0m\u001b[0;34m:\u001b[0m\u001b[0;34m\u001b[0m\u001b[0;34m\u001b[0m\u001b[0m\n",
            "\u001b[0;31mAttributeError\u001b[0m: 'EfficientNet' object has no attribute 'heads'"
          ]
        }
      ]
    },
    {
      "cell_type": "markdown",
      "source": [
        " Collecting Prediction Results"
      ],
      "metadata": {
        "id": "iRi1sRUoFDrI"
      }
    },
    {
      "cell_type": "code",
      "source": [
        "# Initialize a dictionary to store prediction results\n",
        "pretrained_vit_prediction_results = {\n",
        "    'image_path': [],\n",
        "    'predicted_class': []\n",
        "}\n",
        "\n",
        "# Use the uploaded file(s) for prediction\n",
        "for image_path in uploaded.keys():\n",
        "    print(f\"Processing {image_path}...\")\n",
        "    image = Image.open(image_path).convert(\"RGB\")\n",
        "    image = pretrained_vit_transforms(image).unsqueeze(0)\n",
        "\n",
        "    # Make prediction\n",
        "    with torch.no_grad():\n",
        "        outputs = pretrained_vit(image)\n",
        "        _, predicted = torch.max(outputs, 1)\n",
        "\n",
        "    # Save the prediction result\n",
        "    pretrained_vit_prediction_results['image_path'].append(image_path)\n",
        "    pretrained_vit_prediction_results['predicted_class'].append(class_names[predicted.item()])\n",
        "\n",
        "# After prediction, convert to DataFrame and save\n",
        "prediction_results_df = pd.DataFrame(pretrained_vit_prediction_results)\n",
        "prediction_results_df.to_csv('prediction_results.csv', index=False)\n"
      ],
      "metadata": {
        "colab": {
          "base_uri": "https://localhost:8080/"
        },
        "id": "WKQlOXIRFDOq",
        "outputId": "0d5b05e7-2b2b-4805-cfd9-6ece220f2a24"
      },
      "execution_count": 35,
      "outputs": [
        {
          "output_type": "stream",
          "name": "stdout",
          "text": [
            "Processing test_image2.jpg...\n"
          ]
        }
      ]
    },
    {
      "cell_type": "code",
      "source": [
        "# Downloading files from google colab\n",
        "from google.colab import files\n",
        "\n",
        "files.download('pretrained_vit_model.pth')\n",
        "files.download('training_results.csv')\n"
      ],
      "metadata": {
        "colab": {
          "base_uri": "https://localhost:8080/",
          "height": 17
        },
        "id": "YUWUQnQZ9jDV",
        "outputId": "998bf09f-9490-4266-d640-4bfd2aff510b"
      },
      "execution_count": 36,
      "outputs": [
        {
          "output_type": "display_data",
          "data": {
            "text/plain": [
              "<IPython.core.display.Javascript object>"
            ],
            "application/javascript": [
              "\n",
              "    async function download(id, filename, size) {\n",
              "      if (!google.colab.kernel.accessAllowed) {\n",
              "        return;\n",
              "      }\n",
              "      const div = document.createElement('div');\n",
              "      const label = document.createElement('label');\n",
              "      label.textContent = `Downloading \"${filename}\": `;\n",
              "      div.appendChild(label);\n",
              "      const progress = document.createElement('progress');\n",
              "      progress.max = size;\n",
              "      div.appendChild(progress);\n",
              "      document.body.appendChild(div);\n",
              "\n",
              "      const buffers = [];\n",
              "      let downloaded = 0;\n",
              "\n",
              "      const channel = await google.colab.kernel.comms.open(id);\n",
              "      // Send a message to notify the kernel that we're ready.\n",
              "      channel.send({})\n",
              "\n",
              "      for await (const message of channel.messages) {\n",
              "        // Send a message to notify the kernel that we're ready.\n",
              "        channel.send({})\n",
              "        if (message.buffers) {\n",
              "          for (const buffer of message.buffers) {\n",
              "            buffers.push(buffer);\n",
              "            downloaded += buffer.byteLength;\n",
              "            progress.value = downloaded;\n",
              "          }\n",
              "        }\n",
              "      }\n",
              "      const blob = new Blob(buffers, {type: 'application/binary'});\n",
              "      const a = document.createElement('a');\n",
              "      a.href = window.URL.createObjectURL(blob);\n",
              "      a.download = filename;\n",
              "      div.appendChild(a);\n",
              "      a.click();\n",
              "      div.remove();\n",
              "    }\n",
              "  "
            ]
          },
          "metadata": {}
        },
        {
          "output_type": "display_data",
          "data": {
            "text/plain": [
              "<IPython.core.display.Javascript object>"
            ],
            "application/javascript": [
              "download(\"download_3072fd62-87d3-40ba-8101-bd3cb4c2e670\", \"pretrained_vit_model.pth\", 343261038)"
            ]
          },
          "metadata": {}
        },
        {
          "output_type": "display_data",
          "data": {
            "text/plain": [
              "<IPython.core.display.Javascript object>"
            ],
            "application/javascript": [
              "\n",
              "    async function download(id, filename, size) {\n",
              "      if (!google.colab.kernel.accessAllowed) {\n",
              "        return;\n",
              "      }\n",
              "      const div = document.createElement('div');\n",
              "      const label = document.createElement('label');\n",
              "      label.textContent = `Downloading \"${filename}\": `;\n",
              "      div.appendChild(label);\n",
              "      const progress = document.createElement('progress');\n",
              "      progress.max = size;\n",
              "      div.appendChild(progress);\n",
              "      document.body.appendChild(div);\n",
              "\n",
              "      const buffers = [];\n",
              "      let downloaded = 0;\n",
              "\n",
              "      const channel = await google.colab.kernel.comms.open(id);\n",
              "      // Send a message to notify the kernel that we're ready.\n",
              "      channel.send({})\n",
              "\n",
              "      for await (const message of channel.messages) {\n",
              "        // Send a message to notify the kernel that we're ready.\n",
              "        channel.send({})\n",
              "        if (message.buffers) {\n",
              "          for (const buffer of message.buffers) {\n",
              "            buffers.push(buffer);\n",
              "            downloaded += buffer.byteLength;\n",
              "            progress.value = downloaded;\n",
              "          }\n",
              "        }\n",
              "      }\n",
              "      const blob = new Blob(buffers, {type: 'application/binary'});\n",
              "      const a = document.createElement('a');\n",
              "      a.href = window.URL.createObjectURL(blob);\n",
              "      a.download = filename;\n",
              "      div.appendChild(a);\n",
              "      a.click();\n",
              "      div.remove();\n",
              "    }\n",
              "  "
            ]
          },
          "metadata": {}
        },
        {
          "output_type": "display_data",
          "data": {
            "text/plain": [
              "<IPython.core.display.Javascript object>"
            ],
            "application/javascript": [
              "download(\"download_d39034e3-fe3f-4a2b-b765-2ac851972e1e\", \"training_results.csv\", 234)"
            ]
          },
          "metadata": {}
        }
      ]
    }
  ]
}